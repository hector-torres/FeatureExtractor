{
 "cells": [
  {
   "cell_type": "code",
   "execution_count": null,
   "metadata": {
    "collapsed": true
   },
   "outputs": [],
   "source": []
  },
  {
   "cell_type": "markdown",
   "source": [
    "# The Tweet Collector\n",
    "\n",
    "To avoid making unnecessary Twitter API calls, we will use a repository of tweets held in an\n",
    "a remote Postgres instance. This will save a selected number of tweets to a local CSV file to be\n",
    "batch-processed by the other jobs in the application."
   ],
   "metadata": {
    "collapsed": false
   }
  },
  {
   "cell_type": "code",
   "execution_count": null,
   "outputs": [],
   "source": [
    "# this cell sets up the database connections to pull data directly\n",
    "\n",
    "import configparser\n",
    "import os\n",
    "import psycopg2\n",
    "\n",
    "def config_file_reader(API_caller: str) -> tuple:\n",
    "    \"\"\"\n",
    "    A common configuration file reader.\n",
    "\n",
    "    Reads data from a common configuration file, determining which fields to call depending\n",
    "    on the API caller passed to it.\n",
    "\n",
    "    :param API_caller:(str) the name of the service calling this API\n",
    "\n",
    "    :return: (tuple) a tuple of strings of each configuration returned for the called service\n",
    "    \"\"\"\n",
    "    home_directory_path = os.path.expanduser(\"~\")\n",
    "    logger_directory_path = os.path.join(home_directory_path, \"Quantum\", \"Event Detector\",\n",
    "                                         \"Twitter Event Detector\", \"Logs\")\n",
    "    config_directory_path = os.path.join(home_directory_path, \"Quantum\", \"Event Detector\",\n",
    "                                         \"Twitter Event Detector\", \"Common\")\n",
    "    config_file_path = os.path.join(config_directory_path, \"config.ini\")\n",
    "\n",
    "    # instantiates the configuration parser\n",
    "    config = configparser.ConfigParser()\n",
    "\n",
    "    # if config files exists, proceed: else, create directory structure, then fail gracefully\n",
    "    if os.path.exists(config_file_path):\n",
    "        config.read(config_file_path)\n",
    "    else:\n",
    "        os.makedirs(config_directory_path)\n",
    "        print(\"No config file found in \" + config_directory_path +\n",
    "              \". Please place a configuration file into this directory and try again.\")\n",
    "\n",
    "    if API_caller == \"data_access_object\":\n",
    "        database_type = config[\"DATABASE\"][\"type\"]\n",
    "        database_host = config[\"DATABASE\"][\"host\"]\n",
    "        database_name = config[\"DATABASE\"][\"database_name\"]\n",
    "        database_user = config[\"DATABASE\"][\"user\"]\n",
    "        database_password = config[\"DATABASE\"][\"password\"]\n",
    "        database_instance_id = config[\"DATABASE\"][\"database_instance_id\"]\n",
    "        database_port = config[\"DATABASE\"][\"database_port\"]\n",
    "        return database_type, database_host, database_name, database_user, database_password, \\\n",
    "               database_instance_id, database_port\n",
    "    elif API_caller == \"logger_setup\":\n",
    "        return logger_directory_path,\n",
    "    elif API_caller == \"languages\":\n",
    "        languages = config[\"LANGUAGES\"][\"supported_languages\"]\n",
    "        return languages\n",
    "    elif API_caller == \"account_metadata_importer\":\n",
    "        # this API call only requires the directory path to the config file (which stores a CSV file necessary)\n",
    "        return config_directory_path,\n",
    "    else:\n",
    "        print(\"Error on reading config file: no API caller specified\")\n",
    "\n",
    "def raw_tweet_database_connector():\n",
    "    \"\"\"\n",
    "    Creates and returns a connection object to a PostgreSQL database.\n",
    "\n",
    "    :return: (psycopg2.connect) a PostgreSQL connection object\n",
    "    \"\"\"\n",
    "    config = config_file_reader(\"data_access_object\")\n",
    "    database_type, database_host, database_name, database_user, database_password, \\\n",
    "        database_instance_id, database_port = config\n",
    "\n",
    "    try:\n",
    "        connection = psycopg2.connect(host=database_host, dbname=database_name, user=database_user,\n",
    "                                      password=database_password, port=database_port)\n",
    "        return connection\n",
    "    except psycopg2.OperationalError:\n",
    "        print('Database connection error')\n",
    "\n",
    "def raw_tweet_database_reader() -> list:\n",
    "    \"\"\"\n",
    "    Reads the last 100 entries in the Raw Tweet Database.\n",
    "\n",
    "    :return: (pandas dataframe) a dataframe containing the last 100 entries in the Raw Tweet Database\n",
    "    \"\"\"\n",
    "    # calls the database connector\n",
    "    connection = raw_tweet_database_connector()\n",
    "    cursor = connection.cursor()\n",
    "\n",
    "    sql = \"SELECT tweet_time_created, tweet_uid, tweet_text, tweet_source, reply_tweet_uid, reply_tweet_count, \" \\\n",
    "      \"quote_tweet, quote_tweet_uid, quote_tweet_text, quote_tweet_count, retweet_tweet_status,  \" \\\n",
    "      \"retweet_tweet_count, tweet_language, user_uid, user_name, user_screen_name, user_description, \" \\\n",
    "      \"user_verification, user_follower_count, user_friends_count, user_statuses_count, user_time_created, \" \\\n",
    "      \"tweet_coordinates, tweet_place, tweet_place_country_code, tweet_place_bounding_box, \" \\\n",
    "      \"tweet_hashtags, tweet_urls, tweet_symbols, tweet_user_mentions, user_location FROM twitter_posts \" \\\n",
    "      \"ORDER BY tweet_time_created DESC LIMIT %s;\"\n",
    "\n",
    "    cursor.execute(sql, (100,))\n",
    "    return cursor.fetchall()\n"
   ],
   "metadata": {
    "collapsed": false,
    "pycharm": {
     "name": "#%%\n"
    }
   }
  },
  {
   "cell_type": "code",
   "execution_count": null,
   "outputs": [],
   "source": [
    "# add code that writes fetched data to CSV"
   ],
   "metadata": {
    "collapsed": false,
    "pycharm": {
     "name": "#%%\n"
    }
   }
  }
 ],
 "metadata": {
  "kernelspec": {
   "display_name": "Python 3",
   "language": "python",
   "name": "python3"
  },
  "language_info": {
   "codemirror_mode": {
    "name": "ipython",
    "version": 2
   },
   "file_extension": ".py",
   "mimetype": "text/x-python",
   "name": "python",
   "nbconvert_exporter": "python",
   "pygments_lexer": "ipython2",
   "version": "2.7.6"
  }
 },
 "nbformat": 4,
 "nbformat_minor": 0
}